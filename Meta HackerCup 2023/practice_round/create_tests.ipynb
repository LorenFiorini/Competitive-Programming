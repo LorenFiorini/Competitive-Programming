{
 "cells": [
  {
   "cell_type": "code",
   "execution_count": 11,
   "metadata": {},
   "outputs": [],
   "source": [
    "import random"
   ]
  },
  {
   "cell_type": "code",
   "execution_count": 17,
   "metadata": {},
   "outputs": [],
   "source": [
    "def write_test_c(file_name, T, n=-1):\n",
    "\tfout = open(file_name, \"w\")\n",
    "\tfout.write(str(T) + \"\\n\")\n",
    "\t# mx = int(3 * 1e5)\n",
    "\tfor i in range(T):\n",
    "\t\tN = n\n",
    "\t\t# if n == -1:\n",
    "\t\t# \tN = random.randint(1, mx)\n",
    "\t\t# mx = max(2, mx - N)\n",
    "\t\tfout.write(str(N) + \"\\n\")\n",
    "\t\tfor j in range(N):\n",
    "\t\t\tnum = random.randint(1, int(1e9))\n",
    "\t\t\tfout.write(str(num) + \" \")\n",
    "\t\tfout.write(\"\\n\")\n",
    "\tfout.close()"
   ]
  },
  {
   "cell_type": "code",
   "execution_count": 5,
   "metadata": {},
   "outputs": [],
   "source": [
    "write_test_c(\"C_in.txt\", 1, 600000)"
   ]
  },
  {
   "cell_type": "code",
   "execution_count": 19,
   "metadata": {},
   "outputs": [],
   "source": [
    "write_test_c(\"C_in.txt\", 30, 10000)"
   ]
  }
 ],
 "metadata": {
  "kernelspec": {
   "display_name": "Python 3",
   "language": "python",
   "name": "python3"
  },
  "language_info": {
   "codemirror_mode": {
    "name": "ipython",
    "version": 3
   },
   "file_extension": ".py",
   "mimetype": "text/x-python",
   "name": "python",
   "nbconvert_exporter": "python",
   "pygments_lexer": "ipython3",
   "version": "3.11.0"
  },
  "orig_nbformat": 4
 },
 "nbformat": 4,
 "nbformat_minor": 2
}
